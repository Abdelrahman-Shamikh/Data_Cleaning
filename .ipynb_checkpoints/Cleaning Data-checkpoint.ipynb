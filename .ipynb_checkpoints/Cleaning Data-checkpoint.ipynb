{
 "cells": [
  {
   "cell_type": "code",
   "execution_count": 367,
   "id": "90e30ea0-23e6-4023-93a1-868c1eaea240",
   "metadata": {},
   "outputs": [],
   "source": [
    "import pandas as pd"
   ]
  },
  {
   "cell_type": "code",
   "execution_count": 368,
   "id": "896dc124-c227-49b6-b752-f30bbaa3aee7",
   "metadata": {},
   "outputs": [],
   "source": [
    "df = pd.read_csv(\"bi.csv\", encoding=\"latin1\")"
   ]
  },
  {
   "cell_type": "code",
   "execution_count": 369,
   "id": "13ea6710-f5b5-4e43-90cd-4db1b0d95a6c",
   "metadata": {},
   "outputs": [
    {
     "data": {
      "text/plain": [
       "(77, 11)"
      ]
     },
     "execution_count": 369,
     "metadata": {},
     "output_type": "execute_result"
    }
   ],
   "source": [
    "df.shape"
   ]
  },
  {
   "cell_type": "code",
   "execution_count": 370,
   "id": "9da889a9-d179-4565-b0ab-6cc061d6946e",
   "metadata": {
    "scrolled": true
   },
   "outputs": [
    {
     "name": "stdout",
     "output_type": "stream",
     "text": [
      "<class 'pandas.core.frame.DataFrame'>\n",
      "RangeIndex: 77 entries, 0 to 76\n",
      "Data columns (total 11 columns):\n",
      " #   Column         Non-Null Count  Dtype  \n",
      "---  ------         --------------  -----  \n",
      " 0   fNAME          77 non-null     object \n",
      " 1   lNAME          77 non-null     object \n",
      " 2   Age            77 non-null     int64  \n",
      " 3   gender         77 non-null     object \n",
      " 4   country        77 non-null     object \n",
      " 5   residence      77 non-null     object \n",
      " 6   entryEXAM      77 non-null     int64  \n",
      " 7   prevEducation  77 non-null     object \n",
      " 8   studyHOURS     77 non-null     int64  \n",
      " 9   Python         75 non-null     float64\n",
      " 10  DB             77 non-null     int64  \n",
      "dtypes: float64(1), int64(4), object(6)\n",
      "memory usage: 6.7+ KB\n"
     ]
    }
   ],
   "source": [
    "df.info()"
   ]
  },
  {
   "cell_type": "code",
   "execution_count": 371,
   "id": "e67fb344-3d1a-4797-a9b8-846c9e5d7526",
   "metadata": {},
   "outputs": [
    {
     "data": {
      "text/html": [
       "<div>\n",
       "<style scoped>\n",
       "    .dataframe tbody tr th:only-of-type {\n",
       "        vertical-align: middle;\n",
       "    }\n",
       "\n",
       "    .dataframe tbody tr th {\n",
       "        vertical-align: top;\n",
       "    }\n",
       "\n",
       "    .dataframe thead th {\n",
       "        text-align: right;\n",
       "    }\n",
       "</style>\n",
       "<table border=\"1\" class=\"dataframe\">\n",
       "  <thead>\n",
       "    <tr style=\"text-align: right;\">\n",
       "      <th></th>\n",
       "      <th>fNAME</th>\n",
       "      <th>lNAME</th>\n",
       "      <th>Age</th>\n",
       "      <th>gender</th>\n",
       "      <th>country</th>\n",
       "      <th>residence</th>\n",
       "      <th>entryEXAM</th>\n",
       "      <th>prevEducation</th>\n",
       "      <th>studyHOURS</th>\n",
       "      <th>Python</th>\n",
       "      <th>DB</th>\n",
       "    </tr>\n",
       "  </thead>\n",
       "  <tbody>\n",
       "    <tr>\n",
       "      <th>0</th>\n",
       "      <td>Christina</td>\n",
       "      <td>Binger</td>\n",
       "      <td>44</td>\n",
       "      <td>Female</td>\n",
       "      <td>Norway</td>\n",
       "      <td>Private</td>\n",
       "      <td>72</td>\n",
       "      <td>Masters</td>\n",
       "      <td>158</td>\n",
       "      <td>59.0</td>\n",
       "      <td>55</td>\n",
       "    </tr>\n",
       "    <tr>\n",
       "      <th>1</th>\n",
       "      <td>Alex</td>\n",
       "      <td>Walekhwa</td>\n",
       "      <td>60</td>\n",
       "      <td>M</td>\n",
       "      <td>Kenya</td>\n",
       "      <td>Private</td>\n",
       "      <td>79</td>\n",
       "      <td>Diploma</td>\n",
       "      <td>150</td>\n",
       "      <td>60.0</td>\n",
       "      <td>75</td>\n",
       "    </tr>\n",
       "    <tr>\n",
       "      <th>2</th>\n",
       "      <td>Philip</td>\n",
       "      <td>Leo</td>\n",
       "      <td>25</td>\n",
       "      <td>Male</td>\n",
       "      <td>Uganda</td>\n",
       "      <td>Sognsvann</td>\n",
       "      <td>55</td>\n",
       "      <td>HighSchool</td>\n",
       "      <td>130</td>\n",
       "      <td>74.0</td>\n",
       "      <td>50</td>\n",
       "    </tr>\n",
       "    <tr>\n",
       "      <th>3</th>\n",
       "      <td>Shoni</td>\n",
       "      <td>Hlongwane</td>\n",
       "      <td>22</td>\n",
       "      <td>F</td>\n",
       "      <td>Rsa</td>\n",
       "      <td>Sognsvann</td>\n",
       "      <td>40</td>\n",
       "      <td>High School</td>\n",
       "      <td>120</td>\n",
       "      <td>NaN</td>\n",
       "      <td>44</td>\n",
       "    </tr>\n",
       "    <tr>\n",
       "      <th>4</th>\n",
       "      <td>Maria</td>\n",
       "      <td>Kedibone</td>\n",
       "      <td>23</td>\n",
       "      <td>Female</td>\n",
       "      <td>South Africa</td>\n",
       "      <td>Sognsvann</td>\n",
       "      <td>65</td>\n",
       "      <td>High School</td>\n",
       "      <td>122</td>\n",
       "      <td>91.0</td>\n",
       "      <td>80</td>\n",
       "    </tr>\n",
       "  </tbody>\n",
       "</table>\n",
       "</div>"
      ],
      "text/plain": [
       "       fNAME      lNAME  Age  gender       country  residence  entryEXAM  \\\n",
       "0  Christina     Binger   44  Female        Norway    Private         72   \n",
       "1       Alex   Walekhwa   60       M         Kenya    Private         79   \n",
       "2     Philip        Leo   25    Male        Uganda  Sognsvann         55   \n",
       "3      Shoni  Hlongwane   22       F           Rsa  Sognsvann         40   \n",
       "4      Maria   Kedibone   23  Female  South Africa  Sognsvann         65   \n",
       "\n",
       "  prevEducation  studyHOURS  Python  DB  \n",
       "0       Masters         158    59.0  55  \n",
       "1       Diploma         150    60.0  75  \n",
       "2    HighSchool         130    74.0  50  \n",
       "3   High School         120     NaN  44  \n",
       "4   High School         122    91.0  80  "
      ]
     },
     "execution_count": 371,
     "metadata": {},
     "output_type": "execute_result"
    }
   ],
   "source": [
    "df.head(5)"
   ]
  },
  {
   "cell_type": "markdown",
   "id": "887741af-f13c-477d-8aec-55f8bfb2fb79",
   "metadata": {},
   "source": [
    "# uniqueness of categorical variables"
   ]
  },
  {
   "cell_type": "code",
   "execution_count": 372,
   "id": "41349467-c1e6-4d56-8be1-48ebdd07314a",
   "metadata": {},
   "outputs": [
    {
     "data": {
      "text/plain": [
       "array(['Female', 'M', 'Male', 'F', 'female', 'male'], dtype=object)"
      ]
     },
     "execution_count": 372,
     "metadata": {},
     "output_type": "execute_result"
    }
   ],
   "source": [
    "df['gender'].unique()"
   ]
  },
  {
   "cell_type": "code",
   "execution_count": 373,
   "id": "1e12ee01-0e01-4d3a-96cd-3745e98eff3f",
   "metadata": {},
   "outputs": [
    {
     "data": {
      "text/plain": [
       "array(['Masters', 'Diploma', 'HighSchool', 'High School', 'Bachelors',\n",
       "       'Barrrchelors', 'diploma', 'DIPLOMA', 'Diplomaaa', 'Doctorate'],\n",
       "      dtype=object)"
      ]
     },
     "execution_count": 373,
     "metadata": {},
     "output_type": "execute_result"
    }
   ],
   "source": [
    "df['prevEducation'].unique()"
   ]
  },
  {
   "cell_type": "code",
   "execution_count": 374,
   "id": "4c76b4b7-3444-42f0-b363-09023cb77a84",
   "metadata": {},
   "outputs": [
    {
     "data": {
      "text/plain": [
       "array(['Norway', 'Kenya', 'Uganda', 'Rsa', 'South Africa', 'Norge',\n",
       "       'norway', 'Denmark', 'Netherlands', 'Italy', 'Spain', 'UK',\n",
       "       'Somali', 'Nigeria', 'Germany', 'France'], dtype=object)"
      ]
     },
     "execution_count": 374,
     "metadata": {},
     "output_type": "execute_result"
    }
   ],
   "source": [
    "df['country'].unique()"
   ]
  },
  {
   "cell_type": "code",
   "execution_count": 375,
   "id": "aacdf373-199b-49b7-a99d-8e10169077e9",
   "metadata": {},
   "outputs": [
    {
     "data": {
      "text/plain": [
       "array(['Private', 'Sognsvann', 'BI Residence', 'BI-Residence',\n",
       "       'BIResidence', 'BI_Residence'], dtype=object)"
      ]
     },
     "execution_count": 375,
     "metadata": {},
     "output_type": "execute_result"
    }
   ],
   "source": [
    "df['residence'].unique()"
   ]
  },
  {
   "cell_type": "markdown",
   "id": "1890eae0-8f7d-464c-baf2-0c65ecd8e471",
   "metadata": {},
   "source": [
    "## Data Inconsistencies and Cleaning\n",
    "\n",
    "Some categorical columns had inconsistent values that needed standardization. These were handled by creating mapping dictionaries and replacing values accordingly.\n",
    "\n",
    "### Country\n",
    "- `norway`, `Norge`, `Norway` → `Norway`  \n",
    "- `Rsa`, `South Africa` → `South Africa`  \n",
    "- `UK`, `United Kingdom` → `United Kingdom`  \n",
    "- `somali`, `Somalia` → `Somalia`  \n",
    "\n",
    "### Education\n",
    "- `Masters`, `master` → `Master`  \n",
    "- `Bachelors`, `Barrrchelors` → `Bachelor`  \n",
    "- `Diploma`, `diploma`, `DIPLOMA`, `Diplomaaa` → `Diploma`  \n",
    "- `HighSchool`, `High School` → `High School`  \n",
    "- `Doctorate`, `doctorate` → `Doctorate`  \n",
    "\n",
    "### Gender\n",
    "- `Female`, `female`, `F` → `Female`  \n",
    "- `Male`, `male`, `M` → `Male`  \n",
    "\n",
    "### Residence\n",
    "- `BI-Residence`, `BIResidence`, `BI_Residence` → `BI Residence`  \n",
    "- `Sognsvann`, `Private` remain unchanged as they are already consistent  \n",
    "\n",
    "**Implementation:** Python dictionaries were created for each categorical column, and the `replace()` function was applied to standardize all values, ensuring consistency across the dataset.\n"
   ]
  },
  {
   "cell_type": "markdown",
   "id": "738017d0-e1bd-4284-913a-e45d2ecc2a53",
   "metadata": {},
   "source": [
    "# Fixing inconsistent of Country column"
   ]
  },
  {
   "cell_type": "code",
   "execution_count": 376,
   "id": "d61bb7f3-4029-4c61-a75c-d6a6f3eb28f1",
   "metadata": {},
   "outputs": [],
   "source": [
    "df[\"country\"] = df[\"country\"].str.lower().str.strip()"
   ]
  },
  {
   "cell_type": "code",
   "execution_count": 377,
   "id": "a2f39d19-edbc-44ba-8648-a3e04a897721",
   "metadata": {},
   "outputs": [],
   "source": [
    "mapping = {\n",
    "    \"norge\": \"norway\",\n",
    "    \"rsa\": \"south africa\",\n",
    "    \"somali\": \"somalia\",\n",
    "    \"uk\": \"united kingdom\"\n",
    "}\n",
    "df[\"country\"] = df[\"country\"].replace(mapping)\n"
   ]
  },
  {
   "cell_type": "markdown",
   "id": "763e7eaa-b4ac-423d-8146-123ae163d44b",
   "metadata": {},
   "source": [
    "# Fixing inconsistent of prevEducation column"
   ]
  },
  {
   "cell_type": "code",
   "execution_count": 378,
   "id": "d4aaed64-16c6-4157-b204-271012e261a1",
   "metadata": {},
   "outputs": [],
   "source": [
    "df[\"prevEducation\"] = df[\"prevEducation\"].str.lower().str.strip()\n"
   ]
  },
  {
   "cell_type": "code",
   "execution_count": 379,
   "id": "64ac7fcc-040b-4f20-8071-409304d1808a",
   "metadata": {},
   "outputs": [],
   "source": [
    "mapping = {\n",
    "    \"highschool\": \"high school\",\n",
    "    \"high school\": \"high school\",\n",
    "    \"bachelors\": \"bachelor\",\n",
    "    \"barrrchelors\": \"bachelor\",   \n",
    "    \"masters\": \"master\",\n",
    "    \"doctorate\": \"doctorate\",\n",
    "    \"diploma\": \"diploma\",\n",
    "    \"diplomaaa\": \"diploma\"      \n",
    "}\n",
    "df[\"prevEducation\"] = df[\"prevEducation\"].replace(mapping)\n"
   ]
  },
  {
   "cell_type": "markdown",
   "id": "2447cd89-d645-40f1-b5d4-1d33fb4758ce",
   "metadata": {},
   "source": [
    "# Fixing inconsistent of Gender column"
   ]
  },
  {
   "cell_type": "code",
   "execution_count": 380,
   "id": "396b2ce7-d032-42ed-933c-d5274278128f",
   "metadata": {},
   "outputs": [],
   "source": [
    "df[\"gender\"] = df[\"gender\"].str.lower().str.strip()\n"
   ]
  },
  {
   "cell_type": "code",
   "execution_count": 381,
   "id": "7cb5b829-eb15-4b1c-b18c-ca56f735d39d",
   "metadata": {},
   "outputs": [],
   "source": [
    "gender_map = {\n",
    "    \"f\": \"female\",\n",
    "    \"m\": \"male\"\n",
    "}\n",
    "df[\"gender\"] = df[\"gender\"].replace(gender_map)\n",
    "\n"
   ]
  },
  {
   "cell_type": "markdown",
   "id": "7c4d4606-8331-4357-be47-91da890effde",
   "metadata": {},
   "source": [
    "# fixing inconsistent of residence column"
   ]
  },
  {
   "cell_type": "code",
   "execution_count": 382,
   "id": "5db5eaa5-b81d-438c-be5e-6494811c45d8",
   "metadata": {},
   "outputs": [],
   "source": [
    "residence = {\n",
    "    \"BI-Residence\": \"BI Residence\",\n",
    "    \"BIResidence\": \"BI Residence\",\n",
    "    \"BI_Residence\": \"BI Residence\"\n",
    "}\n",
    "df['residence'] = df['residence'].replace(residence)\n"
   ]
  },
  {
   "cell_type": "code",
   "execution_count": 383,
   "id": "15ae482b-80cf-4dd0-a5c5-17098219c76f",
   "metadata": {},
   "outputs": [
    {
     "data": {
      "text/plain": [
       "array(['female', 'male'], dtype=object)"
      ]
     },
     "execution_count": 383,
     "metadata": {},
     "output_type": "execute_result"
    }
   ],
   "source": [
    "df['gender'].unique()"
   ]
  },
  {
   "cell_type": "code",
   "execution_count": 384,
   "id": "d964bd6c-1ff1-4c37-9c4f-1c079303583b",
   "metadata": {},
   "outputs": [
    {
     "data": {
      "text/plain": [
       "array(['master', 'diploma', 'high school', 'bachelor', 'doctorate'],\n",
       "      dtype=object)"
      ]
     },
     "execution_count": 384,
     "metadata": {},
     "output_type": "execute_result"
    }
   ],
   "source": [
    "df['prevEducation'].unique()"
   ]
  },
  {
   "cell_type": "code",
   "execution_count": 385,
   "id": "b96aee10-4a65-421b-bdc1-1ad64893ab71",
   "metadata": {},
   "outputs": [
    {
     "data": {
      "text/plain": [
       "array(['norway', 'kenya', 'uganda', 'south africa', 'denmark',\n",
       "       'netherlands', 'italy', 'spain', 'united kingdom', 'somalia',\n",
       "       'nigeria', 'germany', 'france'], dtype=object)"
      ]
     },
     "execution_count": 385,
     "metadata": {},
     "output_type": "execute_result"
    }
   ],
   "source": [
    "df['country'].unique()"
   ]
  },
  {
   "cell_type": "markdown",
   "id": "7cf0b343-5873-4a32-ad00-605aa7ff33e9",
   "metadata": {},
   "source": [
    "### Checking for Duplicates\n",
    "\n",
    "The dataset was checked for duplicate rows to ensure that no records were repeated, which could bias the analysis.  \n",
    "After inspection, **no duplicate rows were found**, so no rows were dropped.\n"
   ]
  },
  {
   "cell_type": "code",
   "execution_count": 386,
   "id": "8a51c5a7-8f2c-410e-a51a-1127b026e17e",
   "metadata": {},
   "outputs": [
    {
     "data": {
      "text/plain": [
       "np.int64(0)"
      ]
     },
     "execution_count": 386,
     "metadata": {},
     "output_type": "execute_result"
    }
   ],
   "source": [
    "df.duplicated().sum()"
   ]
  },
  {
   "cell_type": "code",
   "execution_count": 387,
   "id": "0829f3f4-7751-4247-8115-f95c038c4048",
   "metadata": {},
   "outputs": [],
   "source": [
    "df.drop_duplicates(inplace=True)"
   ]
  },
  {
   "cell_type": "markdown",
   "id": "cb1a00e8-b7c9-42f0-afb0-2322aed46a7d",
   "metadata": {},
   "source": [
    "# idenifying missing values"
   ]
  },
  {
   "cell_type": "code",
   "execution_count": 388,
   "id": "c2717f93-3666-43e7-ae87-00663b29f2ce",
   "metadata": {},
   "outputs": [
    {
     "data": {
      "text/plain": [
       "fNAME            0\n",
       "lNAME            0\n",
       "Age              0\n",
       "gender           0\n",
       "country          0\n",
       "residence        0\n",
       "entryEXAM        0\n",
       "prevEducation    0\n",
       "studyHOURS       0\n",
       "Python           2\n",
       "DB               0\n",
       "dtype: int64"
      ]
     },
     "execution_count": 388,
     "metadata": {},
     "output_type": "execute_result"
    }
   ],
   "source": [
    "df.isnull().sum()"
   ]
  },
  {
   "cell_type": "markdown",
   "id": "9e033ef6-7205-46c5-90f6-e67169c52216",
   "metadata": {},
   "source": [
    "### Comparing Imputation Methods for Numerical Columns\n",
    "\n",
    "To handle missing values in numerical columns (`Python`, `DB`, `studyHOURS`, `Age`, `entryEXAM`), both **mean** and **median** imputation were applied.  \n",
    "\n",
    "- **Mean imputation** replaces missing values with the average of the column.  \n",
    "- **Median imputation** replaces missing values with the middle value of the column.\n",
    "\n",
    "Descriptive statistics were computed for each method and compared with the original data.  \n",
    "Since the descriptive statistics (`count`, `mean`, `std`, `min`, `max`, percentiles) remained the same for both methods, **either method could be used without affecting the overall distribution**.\n"
   ]
  },
  {
   "cell_type": "code",
   "execution_count": 389,
   "id": "e9f7e473-1a5e-4688-8463-d8b9bf27cd6f",
   "metadata": {
    "scrolled": true
   },
   "outputs": [
    {
     "name": "stdout",
     "output_type": "stream",
     "text": [
      "descriptive stats of DB\n",
      "original\n",
      " count     77.000000\n",
      "mean      69.467532\n",
      "std       17.033701\n",
      "min       30.000000\n",
      "25%       56.000000\n",
      "50%       71.000000\n",
      "75%       83.000000\n",
      "max      100.000000\n",
      "Name: DB, dtype: float64\n",
      "Mean used:\n",
      " count     77.000000\n",
      "mean      69.467532\n",
      "std       17.033701\n",
      "min       30.000000\n",
      "25%       56.000000\n",
      "50%       71.000000\n",
      "75%       83.000000\n",
      "max      100.000000\n",
      "Name: DB, dtype: float64\n",
      "Median used:\n",
      " count     77.000000\n",
      "mean      69.467532\n",
      "std       17.033701\n",
      "min       30.000000\n",
      "25%       56.000000\n",
      "50%       71.000000\n",
      "75%       83.000000\n",
      "max      100.000000\n",
      "Name: DB, dtype: float64\n",
      "\n",
      "\n",
      "\n",
      "descriptive stats of Python\n",
      "original\n",
      " count    75.000000\n",
      "mean     75.853333\n",
      "std      15.410328\n",
      "min      15.000000\n",
      "25%      71.000000\n",
      "50%      81.000000\n",
      "75%      85.000000\n",
      "max      91.000000\n",
      "Name: Python, dtype: float64\n",
      "Mean used:\n",
      " count    77.000000\n",
      "mean     75.853333\n",
      "std      15.206208\n",
      "min      15.000000\n",
      "25%      72.000000\n",
      "50%      81.000000\n",
      "75%      85.000000\n",
      "max      91.000000\n",
      "Name: Python, dtype: float64\n",
      "Median used:\n",
      " count    77.000000\n",
      "mean     75.987013\n",
      "std      15.228517\n",
      "min      15.000000\n",
      "25%      72.000000\n",
      "50%      81.000000\n",
      "75%      85.000000\n",
      "max      91.000000\n",
      "Name: Python, dtype: float64\n",
      "\n",
      "\n",
      "\n",
      "descriptive stats of studyHOURS\n",
      "original\n",
      " count     77.000000\n",
      "mean     149.714286\n",
      "std       12.743272\n",
      "min      114.000000\n",
      "25%      144.000000\n",
      "50%      156.000000\n",
      "75%      158.000000\n",
      "max      160.000000\n",
      "Name: studyHOURS, dtype: float64\n",
      "Mean used:\n",
      " count     77.000000\n",
      "mean     149.714286\n",
      "std       12.743272\n",
      "min      114.000000\n",
      "25%      144.000000\n",
      "50%      156.000000\n",
      "75%      158.000000\n",
      "max      160.000000\n",
      "Name: studyHOURS, dtype: float64\n",
      "Median used:\n",
      " count     77.000000\n",
      "mean     149.714286\n",
      "std       12.743272\n",
      "min      114.000000\n",
      "25%      144.000000\n",
      "50%      156.000000\n",
      "75%      158.000000\n",
      "max      160.000000\n",
      "Name: studyHOURS, dtype: float64\n",
      "\n",
      "\n",
      "\n",
      "descriptive stats of Age\n",
      "original\n",
      " count    77.000000\n",
      "mean     35.207792\n",
      "std      10.341966\n",
      "min      21.000000\n",
      "25%      27.000000\n",
      "50%      33.000000\n",
      "75%      42.000000\n",
      "max      71.000000\n",
      "Name: Age, dtype: float64\n",
      "Mean used:\n",
      " count    77.000000\n",
      "mean     35.207792\n",
      "std      10.341966\n",
      "min      21.000000\n",
      "25%      27.000000\n",
      "50%      33.000000\n",
      "75%      42.000000\n",
      "max      71.000000\n",
      "Name: Age, dtype: float64\n",
      "Median used:\n",
      " count    77.000000\n",
      "mean     35.207792\n",
      "std      10.341966\n",
      "min      21.000000\n",
      "25%      27.000000\n",
      "50%      33.000000\n",
      "75%      42.000000\n",
      "max      71.000000\n",
      "Name: Age, dtype: float64\n",
      "\n",
      "\n",
      "\n",
      "descriptive stats of entryEXAM\n",
      "original\n",
      " count    77.000000\n",
      "mean     76.753247\n",
      "std      16.475784\n",
      "min      28.000000\n",
      "25%      69.000000\n",
      "50%      80.000000\n",
      "75%      90.000000\n",
      "max      98.000000\n",
      "Name: entryEXAM, dtype: float64\n",
      "Mean used:\n",
      " count    77.000000\n",
      "mean     76.753247\n",
      "std      16.475784\n",
      "min      28.000000\n",
      "25%      69.000000\n",
      "50%      80.000000\n",
      "75%      90.000000\n",
      "max      98.000000\n",
      "Name: entryEXAM, dtype: float64\n",
      "Median used:\n",
      " count    77.000000\n",
      "mean     76.753247\n",
      "std      16.475784\n",
      "min      28.000000\n",
      "25%      69.000000\n",
      "50%      80.000000\n",
      "75%      90.000000\n",
      "max      98.000000\n",
      "Name: entryEXAM, dtype: float64\n",
      "\n",
      "\n",
      "\n"
     ]
    }
   ],
   "source": [
    "l = [\"DB\", \"Python\", \"studyHOURS\",\"Age\",\"entryEXAM\"]\n",
    "for i in l:\n",
    "    df_mean = df.copy()\n",
    "    df_mean[i] = df_mean[i].fillna(df_mean[i].mean())\n",
    "    \n",
    "    df_median = df.copy()\n",
    "    df_median[i] = df_median[i].fillna(df_median[i].median())\n",
    "    print(f\"descriptive stats of {i}\")\n",
    "    print(\"original\\n\", df[i].describe())\n",
    "    print(\"Mean used:\\n\", df_mean[i].describe())\n",
    "    print(\"Median used:\\n\", df_median[i].describe())\n",
    "    print(\"\\n\\n\")\n"
   ]
  },
  {
   "cell_type": "markdown",
   "id": "0644617f-cd14-47cf-98ac-ab1ceadc38d5",
   "metadata": {},
   "source": [
    "# found no difference between mean or median"
   ]
  },
  {
   "cell_type": "code",
   "execution_count": 390,
   "id": "ef594be3-1336-4829-9725-c1f7c6f3335b",
   "metadata": {},
   "outputs": [],
   "source": [
    "for i in l:\n",
    "    df[i] = df[i].fillna(df[i].mean())"
   ]
  },
  {
   "cell_type": "markdown",
   "id": "2cae2c14-cba2-49f0-a6be-b649029ee0a9",
   "metadata": {},
   "source": [
    "# Imputing Categorical variables"
   ]
  },
  {
   "cell_type": "code",
   "execution_count": 391,
   "id": "86e6a2c0-9320-456a-93d7-01e30e28c7da",
   "metadata": {},
   "outputs": [],
   "source": [
    "l = [\"country\", \"gender\",\"residence\",\"prevEducation\",\"gender\"]\n",
    "for i in l:\n",
    "    df[i] = df[i].fillna(df[i].mode()[0])"
   ]
  },
  {
   "cell_type": "markdown",
   "id": "50ca6459-c777-419a-8532-96d536f5ec9e",
   "metadata": {},
   "source": [
    "### Handling Outliers in the Dataset\n",
    "\n",
    "Initially, the **IQR (Interquartile Range) method** was considered to detect and remove outliers in numerical columns such as `Python`, `DB`, `studyHOURS`, `Age`, and `entryEXAM`. The IQR method calculates a lower bound `(Q1 - 1.5*IQR)` and an upper bound `(Q3 + 1.5*IQR)` for each column and removes values outside this range.\n",
    "\n",
    "However, when applied, the calculated IQR bounds for some columns were not realistic:\n",
    "\n",
    "- `studyHOURS`: lower = 123, upper = 179  \n",
    "- `Python`: lower = 52.5, upper = 104.5  \n",
    "- `DB`: lower = 15.5, upper = 123.5  \n",
    "\n",
    "These ranges did not make sense because:  \n",
    "1. `studyHOURS` should represent hours per week, so realistic values are far below 123–179.  \n",
    "2. Exam scores (`Python`, `DB`, `entryEXAM`) should be capped at 0–100.  \n",
    "3. `Age` should realistically be within adult ranges (e.g., 20–80).  \n",
    "\n",
    "Because the IQR bounds were influenced by incorrect or extreme values in the dataset, using them would either fail to remove actual outliers or remove valid data.\n",
    "\n",
    "#### Alternative Approach\n",
    "\n",
    "- For `studyHOURS`, the values appeared to be recorded in incorrect units (10× too large). We corrected this by dividing the values by 10 to bring them into a reasonable weekly range.  \n",
    "- For exam scores (`Python`, `DB`, `entryEXAM`), we applied manual caps of 0–100 to reflect realistic grading scales.  \n",
    "- For `Age`, we restricted the range to 20–80, which corresponds to the expected adult population.  \n",
    "\n",
    "This approach ensures that the dataset reflects realistic, meaningful values and prevents the IQR method from being distorted by extreme or incorrect entries.\n"
   ]
  },
  {
   "cell_type": "markdown",
   "id": "bfd02c0a-6c96-4688-bffd-d68fcfdf241b",
   "metadata": {},
   "source": [
    "# Showing and dealing with outliers"
   ]
  },
  {
   "cell_type": "code",
   "execution_count": 392,
   "id": "b9ff5a23-a24d-47c1-afcf-7e053c43a41e",
   "metadata": {},
   "outputs": [],
   "source": [
    "import seaborn as sns \n",
    "import matplotlib.pyplot as plt\n"
   ]
  },
  {
   "cell_type": "code",
   "execution_count": 393,
   "id": "4d6a871f-d0ff-4c35-b526-e2c6c4826a26",
   "metadata": {},
   "outputs": [
    {
     "data": {
      "image/png": "[encoded data removed]",
      "text/plain": [
       "<Figure size 640x480 with 1 Axes>"
      ]
     },
     "metadata": {},
     "output_type": "display_data"
    },
    {
     "data": {
      "image/png": "[encoded data removed]",
      "text/plain": [
       "<Figure size 640x480 with 1 Axes>"
      ]
     },
     "metadata": {},
     "output_type": "display_data"
    },
    {
     "data": {
      "image/png": "[encoded data removed]",
      "text/plain": [
       "<Figure size 640x480 with 1 Axes>"
      ]
     },
     "metadata": {},
     "output_type": "display_data"
    },
    {
     "data": {
      "image/png": "[encoded data removed]",
      "text/plain": [
       "<Figure size 640x480 with 1 Axes>"
      ]
     },
     "metadata": {},
     "output_type": "display_data"
    },
    {
     "data": {
      "image/png": "[encoded data removed]",
      "text/plain": [
       "<Figure size 640x480 with 1 Axes>"
      ]
     },
     "metadata": {},
     "output_type": "display_data"
    }
   ],
   "source": [
    "l = [\"DB\", \"Python\", \"studyHOURS\",\"Age\",\"entryEXAM\"]\n",
    "for i in l:\n",
    "    sns.boxplot(x=i, data=df)\n",
    "    plt.title(f\"Boxplot of {i}\")\n",
    "    plt.show()\n"
   ]
  },
  {
   "cell_type": "markdown",
   "id": "7822d1ad-56fb-4e34-9d38-d5663c2f17e0",
   "metadata": {},
   "source": [
    "# using iqr it gives unresonable results"
   ]
  },
  {
   "cell_type": "code",
   "execution_count": 394,
   "id": "e453a113-8fc2-4e7e-8f6e-8faa1fb198a3",
   "metadata": {},
   "outputs": [
    {
     "name": "stdout",
     "output_type": "stream",
     "text": [
      "for column DB : lower 15.5 , upper 123.5\n",
      "for column Python : lower 52.5 , upper 104.5\n",
      "for column studyHOURS : lower 123.0 , upper 179.0\n",
      "for column Age : lower 4.5 , upper 64.5\n",
      "for column entryEXAM : lower 37.5 , upper 121.5\n"
     ]
    }
   ],
   "source": [
    "l = [\"DB\", \"Python\", \"studyHOURS\",\"Age\",\"entryEXAM\"]\n",
    "\n",
    "for col in l:\n",
    "    Q1 = df[col].quantile(0.25)  \n",
    "    Q3 = df[col].quantile(0.75)\n",
    "    IQR = Q3 - Q1\n",
    "    lower=Q1 - 1.5*IQR\n",
    "    upper=Q3 + 1.5*IQR\n",
    "    print(f\"for column {col} : lower {lower} , upper {upper}\")\n",
    "    d = df[(df[col] >= lower) & (df[col] <= upper)]\n",
    "#results suggests a range that is not right"
   ]
  },
  {
   "cell_type": "markdown",
   "id": "c616299b-c6ad-4eac-9a24-e30864be2018",
   "metadata": {},
   "source": [
    "# simple way range and right way"
   ]
  },
  {
   "cell_type": "code",
   "execution_count": 395,
   "id": "085860cb-43e5-400b-be7f-d0c7f02f403f",
   "metadata": {},
   "outputs": [],
   "source": [
    "#this hours are per week these are right way as it is more resonable than iqr\n",
    "df[\"studyHOURS\"]=df[\"studyHOURS\"]/10 # divided to be reasonable\n",
    "df = df[(df['studyHOURS'] >= 0) & (df['studyHOURS'] <= 100)] # from 120 to 160 hrs per month\n",
    "df = df[(df['Age'] >= 20) & (df['Age'] <= 80)]\n",
    "df = df[(df['entryEXAM'] >= 0) & (df['entryEXAM'] <= 100)]\n",
    "df = df[(df[\"Python\"] >= 0) & (df[\"Python\"] <= 100)]\n",
    "df = df[(df[\"DB\"] >= 0) & (df[\"DB\"] <= 100)]"
   ]
  },
  {
   "cell_type": "markdown",
   "id": "22af3c32-a03c-4d5f-b2d5-2dd516a53212",
   "metadata": {},
   "source": [
    "# making python column an int "
   ]
  },
  {
   "cell_type": "code",
   "execution_count": 396,
   "id": "87e6efc1-4961-49d9-97e2-b0f6eb1f8e58",
   "metadata": {},
   "outputs": [],
   "source": [
    "df[\"Python\"]=df[\"Python\"].astype(int)\n",
    "df[\"studyHOURS\"]=df[\"studyHOURS\"].astype(int)"
   ]
  },
  {
   "cell_type": "code",
   "execution_count": 397,
   "id": "b190b5a5-da0c-44a2-b17e-95bd90f81a14",
   "metadata": {},
   "outputs": [
    {
     "name": "stdout",
     "output_type": "stream",
     "text": [
      "<class 'pandas.core.frame.DataFrame'>\n",
      "RangeIndex: 77 entries, 0 to 76\n",
      "Data columns (total 11 columns):\n",
      " #   Column         Non-Null Count  Dtype \n",
      "---  ------         --------------  ----- \n",
      " 0   fNAME          77 non-null     object\n",
      " 1   lNAME          77 non-null     object\n",
      " 2   Age            77 non-null     int64 \n",
      " 3   gender         77 non-null     object\n",
      " 4   country        77 non-null     object\n",
      " 5   residence      77 non-null     object\n",
      " 6   entryEXAM      77 non-null     int64 \n",
      " 7   prevEducation  77 non-null     object\n",
      " 8   studyHOURS     77 non-null     int64 \n",
      " 9   Python         77 non-null     int64 \n",
      " 10  DB             77 non-null     int64 \n",
      "dtypes: int64(5), object(6)\n",
      "memory usage: 6.7+ KB\n"
     ]
    }
   ],
   "source": [
    "df.info()"
   ]
  },
  {
   "cell_type": "code",
   "execution_count": 398,
   "id": "0c869254-35d4-40c3-9e4e-0a9f7d002216",
   "metadata": {},
   "outputs": [],
   "source": [
    "df.to_csv(\"Cleaned_data.csv\",index=False)"
   ]
  }
 ],
 "metadata": {
  "kernelspec": {
   "display_name": "Python 3 (ipykernel)",
   "language": "python",
   "name": "python3"
  },
  "language_info": {
   "codemirror_mode": {
    "name": "ipython",
    "version": 3
   },
   "file_extension": ".py",
   "mimetype": "text/x-python",
   "name": "python",
   "nbconvert_exporter": "python",
   "pygments_lexer": "ipython3",
   "version": "3.13.5"
  }
 },
 "nbformat": 4,
 "nbformat_minor": 5
}
